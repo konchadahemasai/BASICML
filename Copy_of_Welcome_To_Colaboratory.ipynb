{
  "nbformat": 4,
  "nbformat_minor": 0,
  "metadata": {
    "colab": {
      "name": "Copy of Welcome To Colaboratory",
      "provenance": [],
      "collapsed_sections": [],
      "include_colab_link": true
    },
    "kernelspec": {
      "display_name": "Python 3",
      "name": "python3"
    }
  },
  "cells": [
    {
      "cell_type": "markdown",
      "metadata": {
        "id": "view-in-github",
        "colab_type": "text"
      },
      "source": [
        "<a href=\"https://colab.research.google.com/github/konchadahemasai/BASICML/blob/main/Copy_of_Welcome_To_Colaboratory.ipynb\" target=\"_parent\"><img src=\"https://colab.research.google.com/assets/colab-badge.svg\" alt=\"Open In Colab\"/></a>"
      ]
    },
    {
      "cell_type": "markdown",
      "metadata": {
        "id": "iry1hGUFiGTx"
      },
      "source": [
        "Program to find the factorial of a number"
      ]
    },
    {
      "cell_type": "code",
      "metadata": {
        "colab": {
          "base_uri": "https://localhost:8080/"
        },
        "id": "Sl0SEm3KiKNN",
        "outputId": "fc384209-4ca8-484f-ca11-ae1197687b90"
      },
      "source": [
        "n=int(input(\"enter a number\"))\n",
        "fact=1\n",
        "for i in range(1,n+1):\n",
        "    fact=fact*i\n",
        "print(\"factorial=\",fact)"
      ],
      "execution_count": null,
      "outputs": [
        {
          "output_type": "stream",
          "text": [
            "enter a number3\n",
            "factorial= 6\n"
          ],
          "name": "stdout"
        }
      ]
    },
    {
      "cell_type": "markdown",
      "metadata": {
        "id": "QVLqSOmegmOf"
      },
      "source": [
        "Program to check whether the number is even or odd"
      ]
    },
    {
      "cell_type": "code",
      "metadata": {
        "colab": {
          "base_uri": "https://localhost:8080/"
        },
        "id": "mJTAMO54gv8W",
        "outputId": "e3667b1c-e2f7-4f81-8b74-ed9e0a9f4bef"
      },
      "source": [
        "n=int(input(\"enter the number\"))\n",
        "if n%2==0:\n",
        "    print(n,\"is even number\")\n",
        "else:\n",
        "    print(n,\"is odd number\")"
      ],
      "execution_count": null,
      "outputs": [
        {
          "output_type": "stream",
          "text": [
            "enter the number4\n",
            "4 is even number\n"
          ],
          "name": "stdout"
        }
      ]
    },
    {
      "cell_type": "markdown",
      "metadata": {
        "id": "SHAzc69rhNC3"
      },
      "source": [
        "Program to find the sum of the digits in a number"
      ]
    },
    {
      "cell_type": "code",
      "metadata": {
        "colab": {
          "base_uri": "https://localhost:8080/"
        },
        "id": "EULMJ_zfhVkC",
        "outputId": "23b5a829-1a36-4389-9b21-978797b7c72e"
      },
      "source": [
        "n=int(input(\"enter the n value\"))\n",
        "sum =0\n",
        "while (n>0):\n",
        "     r=n%10\n",
        "     sum=sum+r\n",
        "     n=n//10\n",
        "print(\"sum of digits in a number is\",sum)"
      ],
      "execution_count": null,
      "outputs": [
        {
          "output_type": "stream",
          "text": [
            "enter the n value467\n",
            "sum of digits in a number is 17\n"
          ],
          "name": "stdout"
        }
      ]
    }
  ]
}