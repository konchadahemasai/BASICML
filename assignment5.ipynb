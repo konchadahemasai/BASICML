{
  "nbformat": 4,
  "nbformat_minor": 0,
  "metadata": {
    "colab": {
      "name": "assignment5.ipynb",
      "provenance": [],
      "collapsed_sections": [],
      "authorship_tag": "ABX9TyNixdt0PDfWGfDbkmXgEcGH",
      "include_colab_link": true
    },
    "kernelspec": {
      "name": "python3",
      "display_name": "Python 3"
    },
    "language_info": {
      "name": "python"
    }
  },
  "cells": [
    {
      "cell_type": "markdown",
      "metadata": {
        "id": "view-in-github",
        "colab_type": "text"
      },
      "source": [
        "<a href=\"https://colab.research.google.com/github/konchadahemasai/BASICML/blob/main/assignment5.ipynb\" target=\"_parent\"><img src=\"https://colab.research.google.com/assets/colab-badge.svg\" alt=\"Open In Colab\"/></a>"
      ]
    },
    {
      "cell_type": "markdown",
      "source": [
        "# ASSIGNMENT 5"
      ],
      "metadata": {
        "id": "uxoR990Jg8z6"
      }
    },
    {
      "cell_type": "code",
      "execution_count": 1,
      "metadata": {
        "id": "sK6n33ulbbq9"
      },
      "outputs": [],
      "source": [
        "import pandas as pd\n",
        "import numpy as np\n",
        "import seaborn as sns\n",
        "import matplotlib as plt"
      ]
    },
    {
      "cell_type": "code",
      "source": [
        "data=pd.read_csv(\"ppp_over_150k.csv\")\n",
        "data.head()"
      ],
      "metadata": {
        "colab": {
          "base_uri": "https://localhost:8080/",
          "height": 386
        },
        "id": "LBhaVQXifUl3",
        "outputId": "daebbe43-27ba-416f-b4bc-f11ffbf94184"
      },
      "execution_count": 3,
      "outputs": [
        {
          "output_type": "execute_result",
          "data": {
            "text/plain": [
              "   LoanNumber DateApproved  SBAOfficeCode ProcessingMethod  \\\n",
              "0  9547507704   2020-05-01            464              PPP   \n",
              "1  9777677704   2020-05-01            464              PPP   \n",
              "2  5791407702   2020-05-01           1013              PPP   \n",
              "3  6223567700   2020-05-01            920              PPP   \n",
              "4  9662437702   2020-05-01            101              PPP   \n",
              "\n",
              "               BorrowerName        BorrowerAddress      BorrowerCity  \\\n",
              "0       sumter coatings inc  2410 highway 15 south            sumter   \n",
              "1       pleasant places inc    7684 southrail road  north charleston   \n",
              "2    boyer childrens clinic       1850 boyer ave e           seattle   \n",
              "3  kirtley construction inc   1661 martin ranch rd    san bernardino   \n",
              "4              aero box llc                unknown           unknown   \n",
              "\n",
              "  BorrowerState BorrowerZip LoanStatusDate  ... TOTAL_PROCEED  PROCEED_Diff  \\\n",
              "0           UNK  29150-9662     2020-12-18  ...     769358.78           0.0   \n",
              "1           UNK  29420-9000     2021-09-28  ...     736927.79           0.0   \n",
              "2           UNK  98112-2922     2021-03-17  ...     691355.00           0.0   \n",
              "3           UNK  92407-1740     2021-10-16  ...     499871.00           0.0   \n",
              "4           UNK           0     2021-08-17  ...     367437.00           0.0   \n",
              "\n",
              "   UTILITIES_PROCEED_pct  PAYROLL_PROCEED_pct  MORTGAGE_INTEREST_PROCEED_pct  \\\n",
              "0                    0.0                  1.0                            0.0   \n",
              "1                    0.0                  1.0                            0.0   \n",
              "2                    0.0                  1.0                            0.0   \n",
              "3                    0.0                  1.0                            0.0   \n",
              "4                    0.0                  1.0                            0.0   \n",
              "\n",
              "   RENT_PROCEED_pct REFINANCE_EIDL_PROCEED_pct  HEALTH_CARE_PROCEED_pct  \\\n",
              "0               0.0                        0.0                      0.0   \n",
              "1               0.0                        0.0                      0.0   \n",
              "2               0.0                        0.0                      0.0   \n",
              "3               0.0                        0.0                      0.0   \n",
              "4               0.0                        0.0                      0.0   \n",
              "\n",
              "  DEBT_INTEREST_PROCEED_pct PROCEED_Per_Job  \n",
              "0                       0.0        12409.01  \n",
              "1                       0.0        10094.90  \n",
              "2                       0.0         9218.07  \n",
              "3                       0.0        23803.38  \n",
              "4                       0.0        14697.48  \n",
              "\n",
              "[5 rows x 66 columns]"
            ],
            "text/html": [
              "\n",
              "  <div id=\"df-9050b708-1ffb-40ed-a931-3aa0197f42cc\">\n",
              "    <div class=\"colab-df-container\">\n",
              "      <div>\n",
              "<style scoped>\n",
              "    .dataframe tbody tr th:only-of-type {\n",
              "        vertical-align: middle;\n",
              "    }\n",
              "\n",
              "    .dataframe tbody tr th {\n",
              "        vertical-align: top;\n",
              "    }\n",
              "\n",
              "    .dataframe thead th {\n",
              "        text-align: right;\n",
              "    }\n",
              "</style>\n",
              "<table border=\"1\" class=\"dataframe\">\n",
              "  <thead>\n",
              "    <tr style=\"text-align: right;\">\n",
              "      <th></th>\n",
              "      <th>LoanNumber</th>\n",
              "      <th>DateApproved</th>\n",
              "      <th>SBAOfficeCode</th>\n",
              "      <th>ProcessingMethod</th>\n",
              "      <th>BorrowerName</th>\n",
              "      <th>BorrowerAddress</th>\n",
              "      <th>BorrowerCity</th>\n",
              "      <th>BorrowerState</th>\n",
              "      <th>BorrowerZip</th>\n",
              "      <th>LoanStatusDate</th>\n",
              "      <th>...</th>\n",
              "      <th>TOTAL_PROCEED</th>\n",
              "      <th>PROCEED_Diff</th>\n",
              "      <th>UTILITIES_PROCEED_pct</th>\n",
              "      <th>PAYROLL_PROCEED_pct</th>\n",
              "      <th>MORTGAGE_INTEREST_PROCEED_pct</th>\n",
              "      <th>RENT_PROCEED_pct</th>\n",
              "      <th>REFINANCE_EIDL_PROCEED_pct</th>\n",
              "      <th>HEALTH_CARE_PROCEED_pct</th>\n",
              "      <th>DEBT_INTEREST_PROCEED_pct</th>\n",
              "      <th>PROCEED_Per_Job</th>\n",
              "    </tr>\n",
              "  </thead>\n",
              "  <tbody>\n",
              "    <tr>\n",
              "      <th>0</th>\n",
              "      <td>9547507704</td>\n",
              "      <td>2020-05-01</td>\n",
              "      <td>464</td>\n",
              "      <td>PPP</td>\n",
              "      <td>sumter coatings inc</td>\n",
              "      <td>2410 highway 15 south</td>\n",
              "      <td>sumter</td>\n",
              "      <td>UNK</td>\n",
              "      <td>29150-9662</td>\n",
              "      <td>2020-12-18</td>\n",
              "      <td>...</td>\n",
              "      <td>769358.78</td>\n",
              "      <td>0.0</td>\n",
              "      <td>0.0</td>\n",
              "      <td>1.0</td>\n",
              "      <td>0.0</td>\n",
              "      <td>0.0</td>\n",
              "      <td>0.0</td>\n",
              "      <td>0.0</td>\n",
              "      <td>0.0</td>\n",
              "      <td>12409.01</td>\n",
              "    </tr>\n",
              "    <tr>\n",
              "      <th>1</th>\n",
              "      <td>9777677704</td>\n",
              "      <td>2020-05-01</td>\n",
              "      <td>464</td>\n",
              "      <td>PPP</td>\n",
              "      <td>pleasant places inc</td>\n",
              "      <td>7684 southrail road</td>\n",
              "      <td>north charleston</td>\n",
              "      <td>UNK</td>\n",
              "      <td>29420-9000</td>\n",
              "      <td>2021-09-28</td>\n",
              "      <td>...</td>\n",
              "      <td>736927.79</td>\n",
              "      <td>0.0</td>\n",
              "      <td>0.0</td>\n",
              "      <td>1.0</td>\n",
              "      <td>0.0</td>\n",
              "      <td>0.0</td>\n",
              "      <td>0.0</td>\n",
              "      <td>0.0</td>\n",
              "      <td>0.0</td>\n",
              "      <td>10094.90</td>\n",
              "    </tr>\n",
              "    <tr>\n",
              "      <th>2</th>\n",
              "      <td>5791407702</td>\n",
              "      <td>2020-05-01</td>\n",
              "      <td>1013</td>\n",
              "      <td>PPP</td>\n",
              "      <td>boyer childrens clinic</td>\n",
              "      <td>1850 boyer ave e</td>\n",
              "      <td>seattle</td>\n",
              "      <td>UNK</td>\n",
              "      <td>98112-2922</td>\n",
              "      <td>2021-03-17</td>\n",
              "      <td>...</td>\n",
              "      <td>691355.00</td>\n",
              "      <td>0.0</td>\n",
              "      <td>0.0</td>\n",
              "      <td>1.0</td>\n",
              "      <td>0.0</td>\n",
              "      <td>0.0</td>\n",
              "      <td>0.0</td>\n",
              "      <td>0.0</td>\n",
              "      <td>0.0</td>\n",
              "      <td>9218.07</td>\n",
              "    </tr>\n",
              "    <tr>\n",
              "      <th>3</th>\n",
              "      <td>6223567700</td>\n",
              "      <td>2020-05-01</td>\n",
              "      <td>920</td>\n",
              "      <td>PPP</td>\n",
              "      <td>kirtley construction inc</td>\n",
              "      <td>1661 martin ranch rd</td>\n",
              "      <td>san bernardino</td>\n",
              "      <td>UNK</td>\n",
              "      <td>92407-1740</td>\n",
              "      <td>2021-10-16</td>\n",
              "      <td>...</td>\n",
              "      <td>499871.00</td>\n",
              "      <td>0.0</td>\n",
              "      <td>0.0</td>\n",
              "      <td>1.0</td>\n",
              "      <td>0.0</td>\n",
              "      <td>0.0</td>\n",
              "      <td>0.0</td>\n",
              "      <td>0.0</td>\n",
              "      <td>0.0</td>\n",
              "      <td>23803.38</td>\n",
              "    </tr>\n",
              "    <tr>\n",
              "      <th>4</th>\n",
              "      <td>9662437702</td>\n",
              "      <td>2020-05-01</td>\n",
              "      <td>101</td>\n",
              "      <td>PPP</td>\n",
              "      <td>aero box llc</td>\n",
              "      <td>unknown</td>\n",
              "      <td>unknown</td>\n",
              "      <td>UNK</td>\n",
              "      <td>0</td>\n",
              "      <td>2021-08-17</td>\n",
              "      <td>...</td>\n",
              "      <td>367437.00</td>\n",
              "      <td>0.0</td>\n",
              "      <td>0.0</td>\n",
              "      <td>1.0</td>\n",
              "      <td>0.0</td>\n",
              "      <td>0.0</td>\n",
              "      <td>0.0</td>\n",
              "      <td>0.0</td>\n",
              "      <td>0.0</td>\n",
              "      <td>14697.48</td>\n",
              "    </tr>\n",
              "  </tbody>\n",
              "</table>\n",
              "<p>5 rows × 66 columns</p>\n",
              "</div>\n",
              "      <button class=\"colab-df-convert\" onclick=\"convertToInteractive('df-9050b708-1ffb-40ed-a931-3aa0197f42cc')\"\n",
              "              title=\"Convert this dataframe to an interactive table.\"\n",
              "              style=\"display:none;\">\n",
              "        \n",
              "  <svg xmlns=\"http://www.w3.org/2000/svg\" height=\"24px\"viewBox=\"0 0 24 24\"\n",
              "       width=\"24px\">\n",
              "    <path d=\"M0 0h24v24H0V0z\" fill=\"none\"/>\n",
              "    <path d=\"M18.56 5.44l.94 2.06.94-2.06 2.06-.94-2.06-.94-.94-2.06-.94 2.06-2.06.94zm-11 1L8.5 8.5l.94-2.06 2.06-.94-2.06-.94L8.5 2.5l-.94 2.06-2.06.94zm10 10l.94 2.06.94-2.06 2.06-.94-2.06-.94-.94-2.06-.94 2.06-2.06.94z\"/><path d=\"M17.41 7.96l-1.37-1.37c-.4-.4-.92-.59-1.43-.59-.52 0-1.04.2-1.43.59L10.3 9.45l-7.72 7.72c-.78.78-.78 2.05 0 2.83L4 21.41c.39.39.9.59 1.41.59.51 0 1.02-.2 1.41-.59l7.78-7.78 2.81-2.81c.8-.78.8-2.07 0-2.86zM5.41 20L4 18.59l7.72-7.72 1.47 1.35L5.41 20z\"/>\n",
              "  </svg>\n",
              "      </button>\n",
              "      \n",
              "  <style>\n",
              "    .colab-df-container {\n",
              "      display:flex;\n",
              "      flex-wrap:wrap;\n",
              "      gap: 12px;\n",
              "    }\n",
              "\n",
              "    .colab-df-convert {\n",
              "      background-color: #E8F0FE;\n",
              "      border: none;\n",
              "      border-radius: 50%;\n",
              "      cursor: pointer;\n",
              "      display: none;\n",
              "      fill: #1967D2;\n",
              "      height: 32px;\n",
              "      padding: 0 0 0 0;\n",
              "      width: 32px;\n",
              "    }\n",
              "\n",
              "    .colab-df-convert:hover {\n",
              "      background-color: #E2EBFA;\n",
              "      box-shadow: 0px 1px 2px rgba(60, 64, 67, 0.3), 0px 1px 3px 1px rgba(60, 64, 67, 0.15);\n",
              "      fill: #174EA6;\n",
              "    }\n",
              "\n",
              "    [theme=dark] .colab-df-convert {\n",
              "      background-color: #3B4455;\n",
              "      fill: #D2E3FC;\n",
              "    }\n",
              "\n",
              "    [theme=dark] .colab-df-convert:hover {\n",
              "      background-color: #434B5C;\n",
              "      box-shadow: 0px 1px 3px 1px rgba(0, 0, 0, 0.15);\n",
              "      filter: drop-shadow(0px 1px 2px rgba(0, 0, 0, 0.3));\n",
              "      fill: #FFFFFF;\n",
              "    }\n",
              "  </style>\n",
              "\n",
              "      <script>\n",
              "        const buttonEl =\n",
              "          document.querySelector('#df-9050b708-1ffb-40ed-a931-3aa0197f42cc button.colab-df-convert');\n",
              "        buttonEl.style.display =\n",
              "          google.colab.kernel.accessAllowed ? 'block' : 'none';\n",
              "\n",
              "        async function convertToInteractive(key) {\n",
              "          const element = document.querySelector('#df-9050b708-1ffb-40ed-a931-3aa0197f42cc');\n",
              "          const dataTable =\n",
              "            await google.colab.kernel.invokeFunction('convertToInteractive',\n",
              "                                                     [key], {});\n",
              "          if (!dataTable) return;\n",
              "\n",
              "          const docLinkHtml = 'Like what you see? Visit the ' +\n",
              "            '<a target=\"_blank\" href=https://colab.research.google.com/notebooks/data_table.ipynb>data table notebook</a>'\n",
              "            + ' to learn more about interactive tables.';\n",
              "          element.innerHTML = '';\n",
              "          dataTable['output_type'] = 'display_data';\n",
              "          await google.colab.output.renderOutput(dataTable, element);\n",
              "          const docLink = document.createElement('div');\n",
              "          docLink.innerHTML = docLinkHtml;\n",
              "          element.appendChild(docLink);\n",
              "        }\n",
              "      </script>\n",
              "    </div>\n",
              "  </div>\n",
              "  "
            ]
          },
          "metadata": {},
          "execution_count": 3
        }
      ]
    },
    {
      "cell_type": "markdown",
      "source": [
        "# 1. How many features are available in the given dataset ?"
      ],
      "metadata": {
        "id": "N3UUmSiViFJ2"
      }
    },
    {
      "cell_type": "code",
      "source": [
        "len(data.columns)"
      ],
      "metadata": {
        "colab": {
          "base_uri": "https://localhost:8080/"
        },
        "id": "qnnl-5PnhzCp",
        "outputId": "1219251e-bcc2-4559-dd12-672973f4def5"
      },
      "execution_count": 5,
      "outputs": [
        {
          "output_type": "execute_result",
          "data": {
            "text/plain": [
              "66"
            ]
          },
          "metadata": {},
          "execution_count": 5
        }
      ]
    },
    {
      "cell_type": "code",
      "source": [
        "data.columns"
      ],
      "metadata": {
        "colab": {
          "base_uri": "https://localhost:8080/"
        },
        "id": "bMik505higaJ",
        "outputId": "bd692a68-6766-4a7d-8396-f9769ceeb3ea"
      },
      "execution_count": 6,
      "outputs": [
        {
          "output_type": "execute_result",
          "data": {
            "text/plain": [
              "Index(['LoanNumber', 'DateApproved', 'SBAOfficeCode', 'ProcessingMethod',\n",
              "       'BorrowerName', 'BorrowerAddress', 'BorrowerCity', 'BorrowerState',\n",
              "       'BorrowerZip', 'LoanStatusDate', 'LoanStatus', 'Term',\n",
              "       'SBAGuarantyPercentage', 'InitialApprovalAmount',\n",
              "       'CurrentApprovalAmount', 'UndisbursedAmount', 'FranchiseName',\n",
              "       'ServicingLenderLocationID', 'ServicingLenderName',\n",
              "       'ServicingLenderAddress', 'ServicingLenderCity', 'ServicingLenderState',\n",
              "       'ServicingLenderZip', 'RuralUrbanIndicator', 'HubzoneIndicator',\n",
              "       'LMIIndicator', 'BusinessAgeDescription', 'ProjectCity',\n",
              "       'ProjectCountyName', 'ProjectState', 'ProjectZip', 'CD', 'JobsReported',\n",
              "       'NAICSCode', 'Race', 'Ethnicity', 'UTILITIES_PROCEED',\n",
              "       'PAYROLL_PROCEED', 'MORTGAGE_INTEREST_PROCEED', 'RENT_PROCEED',\n",
              "       'REFINANCE_EIDL_PROCEED', 'HEALTH_CARE_PROCEED',\n",
              "       'DEBT_INTEREST_PROCEED', 'BusinessType', 'OriginatingLenderLocationID',\n",
              "       'OriginatingLender', 'OriginatingLenderCity', 'OriginatingLenderState',\n",
              "       'Gender', 'Veteran', 'NonProfit', 'ForgivenessAmount',\n",
              "       'ForgivenessDate', 'ApprovalDiff', 'NotForgivenAmount',\n",
              "       'ForgivenPercentage', 'TOTAL_PROCEED', 'PROCEED_Diff',\n",
              "       'UTILITIES_PROCEED_pct', 'PAYROLL_PROCEED_pct',\n",
              "       'MORTGAGE_INTEREST_PROCEED_pct', 'RENT_PROCEED_pct',\n",
              "       'REFINANCE_EIDL_PROCEED_pct', 'HEALTH_CARE_PROCEED_pct',\n",
              "       'DEBT_INTEREST_PROCEED_pct', 'PROCEED_Per_Job'],\n",
              "      dtype='object')"
            ]
          },
          "metadata": {},
          "execution_count": 6
        }
      ]
    },
    {
      "cell_type": "markdown",
      "source": [
        "# 2. What is the data type of each feature? ( Provide in tabular format)"
      ],
      "metadata": {
        "id": "oDmVJiTGi4g0"
      }
    },
    {
      "cell_type": "code",
      "source": [
        "data.dtypes"
      ],
      "metadata": {
        "colab": {
          "base_uri": "https://localhost:8080/"
        },
        "id": "d6yYBWcPi7Ja",
        "outputId": "e07145d5-df1d-4ae7-a3cc-dc696f9b7bd4"
      },
      "execution_count": 7,
      "outputs": [
        {
          "output_type": "execute_result",
          "data": {
            "text/plain": [
              "LoanNumber                      int64\n",
              "DateApproved                   object\n",
              "SBAOfficeCode                   int64\n",
              "ProcessingMethod               object\n",
              "BorrowerName                   object\n",
              "                               ...   \n",
              "RENT_PROCEED_pct              float64\n",
              "REFINANCE_EIDL_PROCEED_pct    float64\n",
              "HEALTH_CARE_PROCEED_pct       float64\n",
              "DEBT_INTEREST_PROCEED_pct     float64\n",
              "PROCEED_Per_Job               float64\n",
              "Length: 66, dtype: object"
            ]
          },
          "metadata": {},
          "execution_count": 7
        }
      ]
    },
    {
      "cell_type": "markdown",
      "source": [
        "# 3. What features have null values? List them"
      ],
      "metadata": {
        "id": "FJBLkzPBi-W3"
      }
    },
    {
      "cell_type": "code",
      "source": [
        "data.isnull().any()"
      ],
      "metadata": {
        "colab": {
          "base_uri": "https://localhost:8080/"
        },
        "id": "mI7Swd14jDO1",
        "outputId": "0d0dc6ac-ee86-411c-cf75-6a74ce9bd437"
      },
      "execution_count": 8,
      "outputs": [
        {
          "output_type": "execute_result",
          "data": {
            "text/plain": [
              "LoanNumber                    False\n",
              "DateApproved                  False\n",
              "SBAOfficeCode                 False\n",
              "ProcessingMethod              False\n",
              "BorrowerName                  False\n",
              "                              ...  \n",
              "RENT_PROCEED_pct               True\n",
              "REFINANCE_EIDL_PROCEED_pct     True\n",
              "HEALTH_CARE_PROCEED_pct        True\n",
              "DEBT_INTEREST_PROCEED_pct      True\n",
              "PROCEED_Per_Job                True\n",
              "Length: 66, dtype: bool"
            ]
          },
          "metadata": {},
          "execution_count": 8
        }
      ]
    },
    {
      "cell_type": "code",
      "source": [
        "data.columns[data.isnull().any()].tolist()"
      ],
      "metadata": {
        "colab": {
          "base_uri": "https://localhost:8080/"
        },
        "id": "9v0imiIWjK_Z",
        "outputId": "73753dab-631a-4196-e794-941252e55d1f"
      },
      "execution_count": 9,
      "outputs": [
        {
          "output_type": "execute_result",
          "data": {
            "text/plain": [
              "['UndisbursedAmount',\n",
              " 'FranchiseName',\n",
              " 'ServicingLenderLocationID',\n",
              " 'ServicingLenderName',\n",
              " 'ServicingLenderAddress',\n",
              " 'ServicingLenderCity',\n",
              " 'ServicingLenderState',\n",
              " 'ServicingLenderZip',\n",
              " 'RuralUrbanIndicator',\n",
              " 'HubzoneIndicator',\n",
              " 'LMIIndicator',\n",
              " 'BusinessAgeDescription',\n",
              " 'ProjectCity',\n",
              " 'ProjectCountyName',\n",
              " 'ProjectState',\n",
              " 'ProjectZip',\n",
              " 'CD',\n",
              " 'JobsReported',\n",
              " 'NAICSCode',\n",
              " 'Race',\n",
              " 'Ethnicity',\n",
              " 'UTILITIES_PROCEED',\n",
              " 'PAYROLL_PROCEED',\n",
              " 'MORTGAGE_INTEREST_PROCEED',\n",
              " 'RENT_PROCEED',\n",
              " 'REFINANCE_EIDL_PROCEED',\n",
              " 'HEALTH_CARE_PROCEED',\n",
              " 'DEBT_INTEREST_PROCEED',\n",
              " 'BusinessType',\n",
              " 'OriginatingLenderLocationID',\n",
              " 'OriginatingLender',\n",
              " 'OriginatingLenderCity',\n",
              " 'OriginatingLenderState',\n",
              " 'Gender',\n",
              " 'Veteran',\n",
              " 'NonProfit',\n",
              " 'ForgivenessAmount',\n",
              " 'ForgivenessDate',\n",
              " 'ApprovalDiff',\n",
              " 'NotForgivenAmount',\n",
              " 'ForgivenPercentage',\n",
              " 'TOTAL_PROCEED',\n",
              " 'PROCEED_Diff',\n",
              " 'UTILITIES_PROCEED_pct',\n",
              " 'PAYROLL_PROCEED_pct',\n",
              " 'MORTGAGE_INTEREST_PROCEED_pct',\n",
              " 'RENT_PROCEED_pct',\n",
              " 'REFINANCE_EIDL_PROCEED_pct',\n",
              " 'HEALTH_CARE_PROCEED_pct',\n",
              " 'DEBT_INTEREST_PROCEED_pct',\n",
              " 'PROCEED_Per_Job']"
            ]
          },
          "metadata": {},
          "execution_count": 9
        }
      ]
    },
    {
      "cell_type": "markdown",
      "source": [
        "# 4. Think about what the variables mean and what the histograms say about their values and their spread — are there any surprises?"
      ],
      "metadata": {
        "id": "GLXkDYUGjVXd"
      }
    },
    {
      "cell_type": "code",
      "source": [
        "data.hist(figsize=(18,7))"
      ],
      "metadata": {
        "colab": {
          "base_uri": "https://localhost:8080/",
          "height": 1000
        },
        "id": "B-Ome_T1jjXr",
        "outputId": "46986c49-dfe7-4fb2-bdf4-bcfa1f44af38"
      },
      "execution_count": 10,
      "outputs": [
        {
          "output_type": "execute_result",
          "data": {
            "text/plain": [
              "array([[<matplotlib.axes._subplots.AxesSubplot object at 0x7fa7c6d60250>,\n",
              "        <matplotlib.axes._subplots.AxesSubplot object at 0x7fa7c481aa90>,\n",
              "        <matplotlib.axes._subplots.AxesSubplot object at 0x7fa7c479b110>,\n",
              "        <matplotlib.axes._subplots.AxesSubplot object at 0x7fa7c474f710>,\n",
              "        <matplotlib.axes._subplots.AxesSubplot object at 0x7fa7c4707d10>,\n",
              "        <matplotlib.axes._subplots.AxesSubplot object at 0x7fa7c46cb350>],\n",
              "       [<matplotlib.axes._subplots.AxesSubplot object at 0x7fa7c467e9d0>,\n",
              "        <matplotlib.axes._subplots.AxesSubplot object at 0x7fa7c4635f10>,\n",
              "        <matplotlib.axes._subplots.AxesSubplot object at 0x7fa7c4635f50>,\n",
              "        <matplotlib.axes._subplots.AxesSubplot object at 0x7fa7c45f9690>,\n",
              "        <matplotlib.axes._subplots.AxesSubplot object at 0x7fa7c45f11d0>,\n",
              "        <matplotlib.axes._subplots.AxesSubplot object at 0x7fa7c45aa7d0>],\n",
              "       [<matplotlib.axes._subplots.AxesSubplot object at 0x7fa7c473a9d0>,\n",
              "        <matplotlib.axes._subplots.AxesSubplot object at 0x7fa7c4609350>,\n",
              "        <matplotlib.axes._subplots.AxesSubplot object at 0x7fa7c44bded0>,\n",
              "        <matplotlib.axes._subplots.AxesSubplot object at 0x7fa7c4481510>,\n",
              "        <matplotlib.axes._subplots.AxesSubplot object at 0x7fa7c4435b10>,\n",
              "        <matplotlib.axes._subplots.AxesSubplot object at 0x7fa7c43fb150>],\n",
              "       [<matplotlib.axes._subplots.AxesSubplot object at 0x7fa7c4432750>,\n",
              "        <matplotlib.axes._subplots.AxesSubplot object at 0x7fa7c43e6d50>,\n",
              "        <matplotlib.axes._subplots.AxesSubplot object at 0x7fa7c43aa390>,\n",
              "        <matplotlib.axes._subplots.AxesSubplot object at 0x7fa7c4361990>,\n",
              "        <matplotlib.axes._subplots.AxesSubplot object at 0x7fa7c4318f90>,\n",
              "        <matplotlib.axes._subplots.AxesSubplot object at 0x7fa7c42d95d0>],\n",
              "       [<matplotlib.axes._subplots.AxesSubplot object at 0x7fa7c4290bd0>,\n",
              "        <matplotlib.axes._subplots.AxesSubplot object at 0x7fa7c4255210>,\n",
              "        <matplotlib.axes._subplots.AxesSubplot object at 0x7fa7c4209810>,\n",
              "        <matplotlib.axes._subplots.AxesSubplot object at 0x7fa7c41c0e10>,\n",
              "        <matplotlib.axes._subplots.AxesSubplot object at 0x7fa7c4183450>,\n",
              "        <matplotlib.axes._subplots.AxesSubplot object at 0x7fa7c4138a50>],\n",
              "       [<matplotlib.axes._subplots.AxesSubplot object at 0x7fa7c4165b50>,\n",
              "        <matplotlib.axes._subplots.AxesSubplot object at 0x7fa7c4133690>,\n",
              "        <matplotlib.axes._subplots.AxesSubplot object at 0x7fa7c40e8c90>,\n",
              "        <matplotlib.axes._subplots.AxesSubplot object at 0x7fa7c40ac2d0>,\n",
              "        <matplotlib.axes._subplots.AxesSubplot object at 0x7fa7c40638d0>,\n",
              "        <matplotlib.axes._subplots.AxesSubplot object at 0x7fa7c401ded0>]],\n",
              "      dtype=object)"
            ]
          },
          "metadata": {},
          "execution_count": 10
        },
        {
          "output_type": "display_data",
          "data": {
            "text/plain": [
              "<Figure size 1296x504 with 36 Axes>"
            ],
            "image/png": "[encoded data removed]"
          },
          "metadata": {
            "needs_background": "light"
          }
        }
      ]
    },
    {
      "cell_type": "markdown",
      "source": [
        "# 5. What is the mean for each variable? What do the means tell you about your dataset as a whole?"
      ],
      "metadata": {
        "id": "DoGzgInyjw7D"
      }
    },
    {
      "cell_type": "code",
      "source": [
        "data.mean()"
      ],
      "metadata": {
        "colab": {
          "base_uri": "https://localhost:8080/"
        },
        "id": "WyK-yaEKj4zV",
        "outputId": "cc643ca4-4596-4596-bf7f-0d2d5e6cdadc"
      },
      "execution_count": 11,
      "outputs": [
        {
          "output_type": "stream",
          "name": "stderr",
          "text": [
            "/usr/local/lib/python3.7/dist-packages/ipykernel_launcher.py:1: FutureWarning: Dropping of nuisance columns in DataFrame reductions (with 'numeric_only=None') is deprecated; in a future version this will raise TypeError.  Select only valid columns before calling the reduction.\n",
            "  \"\"\"Entry point for launching an IPython kernel.\n"
          ]
        },
        {
          "output_type": "execute_result",
          "data": {
            "text/plain": [
              "LoanNumber                       5.554688e+09\n",
              "SBAOfficeCode                    5.881382e+02\n",
              "Term                             3.511442e+01\n",
              "SBAGuarantyPercentage            1.000000e+02\n",
              "InitialApprovalAmount            5.290098e+05\n",
              "CurrentApprovalAmount            5.299563e+05\n",
              "UndisbursedAmount                0.000000e+00\n",
              "ServicingLenderLocationID        1.521099e+05\n",
              "JobsReported                     5.285536e+01\n",
              "NAICSCode                        4.993793e+05\n",
              "UTILITIES_PROCEED                6.230199e+03\n",
              "PAYROLL_PROCEED                  5.129384e+05\n",
              "MORTGAGE_INTEREST_PROCEED        2.356647e+03\n",
              "RENT_PROCEED                     5.193904e+03\n",
              "REFINANCE_EIDL_PROCEED           1.194237e+02\n",
              "HEALTH_CARE_PROCEED              2.419477e+03\n",
              "DEBT_INTEREST_PROCEED            7.388145e+02\n",
              "OriginatingLenderLocationID      1.502132e+05\n",
              "ForgivenessAmount                4.817610e+05\n",
              "ApprovalDiff                     9.589481e+02\n",
              "NotForgivenAmount                4.823651e+04\n",
              "ForgivenPercentage               9.150641e-01\n",
              "TOTAL_PROCEED                    5.299969e+05\n",
              "PROCEED_Diff                     5.607092e-01\n",
              "UTILITIES_PROCEED_pct            1.151985e-02\n",
              "PAYROLL_PROCEED_pct              9.680921e-01\n",
              "MORTGAGE_INTEREST_PROCEED_pct    4.423056e-03\n",
              "RENT_PROCEED_pct                 1.033597e-02\n",
              "REFINANCE_EIDL_PROCEED_pct       5.394236e-04\n",
              "HEALTH_CARE_PROCEED_pct          3.797872e-03\n",
              "DEBT_INTEREST_PROCEED_pct        1.292084e-03\n",
              "PROCEED_Per_Job                  1.188761e+04\n",
              "dtype: float64"
            ]
          },
          "metadata": {},
          "execution_count": 11
        }
      ]
    },
    {
      "cell_type": "markdown",
      "source": [
        "# 6. Categorise the data based on the column “BorrowerCity” and plot the histogram based on “BorrowerCity” columns"
      ],
      "metadata": {
        "id": "coSUAgfFkD9A"
      }
    },
    {
      "cell_type": "code",
      "source": [
        "data['BorrowerCity'].hist(figsize=(20,10),color='blue')"
      ],
      "metadata": {
        "colab": {
          "base_uri": "https://localhost:8080/",
          "height": 458
        },
        "id": "2mXcOnDBkLHT",
        "outputId": "e642cde9-a7bf-4a3f-a63c-970a9f3348c4"
      },
      "execution_count": 14,
      "outputs": [
        {
          "output_type": "execute_result",
          "data": {
            "text/plain": [
              "<matplotlib.axes._subplots.AxesSubplot at 0x7fa7bbd83b50>"
            ]
          },
          "metadata": {},
          "execution_count": 14
        },
        {
          "output_type": "display_data",
          "data": {
            "text/plain": [
              "<Figure size 1440x720 with 1 Axes>"
            ],
            "image/png": "[encoded data removed]"
          },
          "metadata": {
            "needs_background": "light"
          }
        }
      ]
    },
    {
      "cell_type": "markdown",
      "source": [
        "# 7. Calculate the below values for the column “InitialApprovalAmount” count , mean , std ,min, 25% ,50% , 75% , max"
      ],
      "metadata": {
        "id": "IasjeN4Vkx71"
      }
    },
    {
      "cell_type": "code",
      "source": [
        "data['InitialApprovalAmount'].describe()"
      ],
      "metadata": {
        "colab": {
          "base_uri": "https://localhost:8080/"
        },
        "id": "75x3jdHlk8Rh",
        "outputId": "42d93eaf-af95-4fda-8693-fc048003b6e2"
      },
      "execution_count": 15,
      "outputs": [
        {
          "output_type": "execute_result",
          "data": {
            "text/plain": [
              "count    1.287400e+04\n",
              "mean     5.290098e+05\n",
              "std      7.277878e+05\n",
              "min      1.700600e+04\n",
              "25%      2.064005e+05\n",
              "50%      3.010000e+05\n",
              "75%      5.410853e+05\n",
              "max      1.000000e+07\n",
              "Name: InitialApprovalAmount, dtype: float64"
            ]
          },
          "metadata": {},
          "execution_count": 15
        }
      ]
    },
    {
      "cell_type": "markdown",
      "source": [
        "# 8. Calculate the below values for column “CurrentApprovalAmount” count , mean , std ,min, 25% ,50% , 75% , max"
      ],
      "metadata": {
        "id": "JDyRFq_BlhNK"
      }
    },
    {
      "cell_type": "code",
      "source": [
        "data['CurrentApprovalAmount'].describe()"
      ],
      "metadata": {
        "colab": {
          "base_uri": "https://localhost:8080/"
        },
        "id": "zsAWD9-rqKAH",
        "outputId": "e66598ac-f4f3-4bcf-a040-96d85ceca0fe"
      },
      "execution_count": 21,
      "outputs": [
        {
          "output_type": "execute_result",
          "data": {
            "text/plain": [
              "count    1.287400e+04\n",
              "mean     5.299563e+05\n",
              "std      7.284635e+05\n",
              "min      1.000000e+00\n",
              "25%      2.067027e+05\n",
              "50%      3.016660e+05\n",
              "75%      5.436081e+05\n",
              "max      1.000000e+07\n",
              "Name: CurrentApprovalAmount, dtype: float64"
            ]
          },
          "metadata": {},
          "execution_count": 21
        }
      ]
    },
    {
      "cell_type": "markdown",
      "source": [
        "# 9. How many distinct “ProjectState '' are available in the dataset? List them"
      ],
      "metadata": {
        "id": "sTP4rvQvqWXe"
      }
    },
    {
      "cell_type": "code",
      "source": [
        "data.ProjectState.unique()"
      ],
      "metadata": {
        "colab": {
          "base_uri": "https://localhost:8080/"
        },
        "id": "g9_LO6XzlqzE",
        "outputId": "3921580e-a49b-4c54-b9dc-ada42907293c"
      },
      "execution_count": 16,
      "outputs": [
        {
          "output_type": "execute_result",
          "data": {
            "text/plain": [
              "array(['SC', 'WA', 'CA', 'UNK', 'FL', 'AK', 'AL', 'GA', nan], dtype=object)"
            ]
          },
          "metadata": {},
          "execution_count": 16
        }
      ]
    },
    {
      "cell_type": "code",
      "source": [
        "len(data.ProjectState.unique())"
      ],
      "metadata": {
        "colab": {
          "base_uri": "https://localhost:8080/"
        },
        "id": "I4E9DrrpndCX",
        "outputId": "b1361c7e-66fa-4e23-e713-332ddfa097ee"
      },
      "execution_count": 19,
      "outputs": [
        {
          "data": {
            "text/plain": [
              "9"
            ]
          },
          "execution_count": null,
          "metadata": {},
          "output_type": "execute_result"
        }
      ]
    },
    {
      "cell_type": "markdown",
      "source": [
        "# 10. List out the counts by column “BusinessType” from the given dataset."
      ],
      "metadata": {
        "id": "CuoYWwJvqcwP"
      }
    },
    {
      "cell_type": "code",
      "source": [
        "data.BusinessType.value_counts()"
      ],
      "metadata": {
        "colab": {
          "base_uri": "https://localhost:8080/",
          "height": 166
        },
        "id": "af15juFqn6xd",
        "outputId": "fec757b8-b809-45e2-8729-259884708abd"
      },
      "execution_count": 1,
      "outputs": [
        {
          "output_type": "error",
          "ename": "NameError",
          "evalue": "ignored",
          "traceback": [
            "\u001b[0;31m---------------------------------------------------------------------------\u001b[0m",
            "\u001b[0;31mNameError\u001b[0m                                 Traceback (most recent call last)",
            "\u001b[0;32m<ipython-input-1-3ec3625abcb9>\u001b[0m in \u001b[0;36m<module>\u001b[0;34m()\u001b[0m\n\u001b[0;32m----> 1\u001b[0;31m \u001b[0mdata\u001b[0m\u001b[0;34m.\u001b[0m\u001b[0mBusinessType\u001b[0m\u001b[0;34m.\u001b[0m\u001b[0mvalue_counts\u001b[0m\u001b[0;34m(\u001b[0m\u001b[0;34m)\u001b[0m\u001b[0;34m\u001b[0m\u001b[0;34m\u001b[0m\u001b[0m\n\u001b[0m",
            "\u001b[0;31mNameError\u001b[0m: name 'data' is not defined"
          ]
        }
      ]
    }
  ]
}